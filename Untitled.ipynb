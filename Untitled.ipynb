{
 "cells": [
  {
   "cell_type": "code",
   "execution_count": 9,
   "id": "a6676ed4-5ca5-4575-b3f7-70eb6c97755e",
   "metadata": {},
   "outputs": [],
   "source": [
    "import tensorflow as tf\n",
    "from keras.models import load_model"
   ]
  },
  {
   "cell_type": "code",
   "execution_count": 11,
   "id": "d42d7fb6-4e72-40ed-98f8-0f3530ea5391",
   "metadata": {},
   "outputs": [],
   "source": [
    "model  = load_model(\"Model1.keras\")"
   ]
  },
  {
   "cell_type": "code",
   "execution_count": 17,
   "id": "6a56fca1-7175-4a49-8602-4da03d954913",
   "metadata": {},
   "outputs": [
    {
     "name": "stdout",
     "output_type": "stream",
     "text": [
      "INFO:tensorflow:Assets written to: C:\\Users\\Salman\\AppData\\Local\\Temp\\tmpcpwe3xv7\\assets\n"
     ]
    },
    {
     "name": "stderr",
     "output_type": "stream",
     "text": [
      "INFO:tensorflow:Assets written to: C:\\Users\\Salman\\AppData\\Local\\Temp\\tmpcpwe3xv7\\assets\n"
     ]
    },
    {
     "name": "stdout",
     "output_type": "stream",
     "text": [
      "Saved artifact at 'C:\\Users\\Salman\\AppData\\Local\\Temp\\tmpcpwe3xv7'. The following endpoints are available:\n",
      "\n",
      "* Endpoint 'serve'\n",
      "  args_0 (POSITIONAL_ONLY): TensorSpec(shape=(None, 150, 150, 3), dtype=tf.float32, name='input_layer')\n",
      "Output Type:\n",
      "  TensorSpec(shape=(None, 1), dtype=tf.float32, name=None)\n",
      "Captures:\n",
      "  2994468057744: TensorSpec(shape=(), dtype=tf.resource, name=None)\n",
      "  2994468053712: TensorSpec(shape=(), dtype=tf.resource, name=None)\n",
      "  2994468049104: TensorSpec(shape=(), dtype=tf.resource, name=None)\n",
      "  2994468055632: TensorSpec(shape=(), dtype=tf.resource, name=None)\n",
      "  2994468056592: TensorSpec(shape=(), dtype=tf.resource, name=None)\n",
      "  2994468058896: TensorSpec(shape=(), dtype=tf.resource, name=None)\n",
      "  2994468055440: TensorSpec(shape=(), dtype=tf.resource, name=None)\n",
      "  2994468059856: TensorSpec(shape=(), dtype=tf.resource, name=None)\n",
      "  2994468058320: TensorSpec(shape=(), dtype=tf.resource, name=None)\n",
      "  2994468060816: TensorSpec(shape=(), dtype=tf.resource, name=None)\n",
      "  2994468060240: TensorSpec(shape=(), dtype=tf.resource, name=None)\n",
      "  2994468061008: TensorSpec(shape=(), dtype=tf.resource, name=None)\n",
      "✅ Model converted and saved as cat_dog_model.tflite\n"
     ]
    }
   ],
   "source": [
    "\n",
    "# Convert to TFLite format\n",
    "converter = tf.lite.TFLiteConverter.from_keras_model(model)\n",
    "tflite_model = converter.convert()\n",
    "\n",
    "# Save the TFLite model to disk\n",
    "with open(\"cat_dog_model.tflite\", \"wb\") as f:\n",
    "    f.write(tflite_model)\n",
    "\n",
    "print(\"✅ Model converted and saved as cat_dog_model.tflite\")\n"
   ]
  },
  {
   "cell_type": "code",
   "execution_count": null,
   "id": "18576964-f0a1-487b-9b2d-93ffcdba2cbc",
   "metadata": {},
   "outputs": [],
   "source": []
  }
 ],
 "metadata": {
  "kernelspec": {
   "display_name": "Python [conda env:base] *",
   "language": "python",
   "name": "conda-base-py"
  },
  "language_info": {
   "codemirror_mode": {
    "name": "ipython",
    "version": 3
   },
   "file_extension": ".py",
   "mimetype": "text/x-python",
   "name": "python",
   "nbconvert_exporter": "python",
   "pygments_lexer": "ipython3",
   "version": "3.12.7"
  }
 },
 "nbformat": 4,
 "nbformat_minor": 5
}
